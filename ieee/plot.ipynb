{
 "cells": [
  {
   "cell_type": "code",
   "execution_count": 1,
   "metadata": {},
   "outputs": [],
   "source": [
    "import pandas as pd\n",
    "import matplotlib.pyplot as plt"
   ]
  },
  {
   "cell_type": "code",
   "execution_count": 2,
   "metadata": {},
   "outputs": [
    {
     "data": {
      "text/html": [
       "<div>\n",
       "<style scoped>\n",
       "    .dataframe tbody tr th:only-of-type {\n",
       "        vertical-align: middle;\n",
       "    }\n",
       "\n",
       "    .dataframe tbody tr th {\n",
       "        vertical-align: top;\n",
       "    }\n",
       "\n",
       "    .dataframe thead th {\n",
       "        text-align: right;\n",
       "    }\n",
       "</style>\n",
       "<table border=\"1\" class=\"dataframe\">\n",
       "  <thead>\n",
       "    <tr style=\"text-align: right;\">\n",
       "      <th></th>\n",
       "      <th>Month</th>\n",
       "      <th>Tweets</th>\n",
       "      <th>Sum</th>\n",
       "      <th>Average</th>\n",
       "    </tr>\n",
       "  </thead>\n",
       "  <tbody>\n",
       "    <tr>\n",
       "      <td>0</td>\n",
       "      <td>March</td>\n",
       "      <td>15241378</td>\n",
       "      <td>5.636238e+05</td>\n",
       "      <td>0.036980</td>\n",
       "    </tr>\n",
       "    <tr>\n",
       "      <td>1</td>\n",
       "      <td>April</td>\n",
       "      <td>39325410</td>\n",
       "      <td>2.159663e+06</td>\n",
       "      <td>0.054918</td>\n",
       "    </tr>\n",
       "    <tr>\n",
       "      <td>2</td>\n",
       "      <td>May</td>\n",
       "      <td>89590279</td>\n",
       "      <td>5.120683e+06</td>\n",
       "      <td>0.057157</td>\n",
       "    </tr>\n",
       "    <tr>\n",
       "      <td>3</td>\n",
       "      <td>June</td>\n",
       "      <td>103513321</td>\n",
       "      <td>4.379480e+06</td>\n",
       "      <td>0.042308</td>\n",
       "    </tr>\n",
       "    <tr>\n",
       "      <td>4</td>\n",
       "      <td>July</td>\n",
       "      <td>119950401</td>\n",
       "      <td>5.841744e+06</td>\n",
       "      <td>0.048701</td>\n",
       "    </tr>\n",
       "    <tr>\n",
       "      <td>5</td>\n",
       "      <td>August</td>\n",
       "      <td>114749538</td>\n",
       "      <td>6.312737e+06</td>\n",
       "      <td>0.055013</td>\n",
       "    </tr>\n",
       "    <tr>\n",
       "      <td>6</td>\n",
       "      <td>September</td>\n",
       "      <td>99156390</td>\n",
       "      <td>4.915020e+06</td>\n",
       "      <td>0.049568</td>\n",
       "    </tr>\n",
       "    <tr>\n",
       "      <td>7</td>\n",
       "      <td>October</td>\n",
       "      <td>106600355</td>\n",
       "      <td>5.340362e+06</td>\n",
       "      <td>0.050097</td>\n",
       "    </tr>\n",
       "  </tbody>\n",
       "</table>\n",
       "</div>"
      ],
      "text/plain": [
       "       Month     Tweets           Sum   Average\n",
       "0      March   15241378  5.636238e+05  0.036980\n",
       "1      April   39325410  2.159663e+06  0.054918\n",
       "2        May   89590279  5.120683e+06  0.057157\n",
       "3       June  103513321  4.379480e+06  0.042308\n",
       "4       July  119950401  5.841744e+06  0.048701\n",
       "5     August  114749538  6.312737e+06  0.055013\n",
       "6  September   99156390  4.915020e+06  0.049568\n",
       "7    October  106600355  5.340362e+06  0.050097"
      ]
     },
     "execution_count": 2,
     "metadata": {},
     "output_type": "execute_result"
    }
   ],
   "source": [
    "global_data = pd.read_csv(\"ieee_average.csv\")\n",
    "\n",
    "global_data"
   ]
  },
  {
   "cell_type": "markdown",
   "metadata": {},
   "source": [
    "## IEEE Sentiment Averge Score by Month"
   ]
  },
  {
   "cell_type": "code",
   "execution_count": 3,
   "metadata": {},
   "outputs": [
    {
     "data": {
      "image/png": "[encoded data removed]",
      "text/plain": [
       "<Figure size 864x432 with 1 Axes>"
      ]
     },
     "metadata": {
      "needs_background": "light"
     },
     "output_type": "display_data"
    }
   ],
   "source": [
    "plt.figure(figsize=(12,6))\n",
    "plt.bar([0,1,2,3,4,5,6,7], global_data['Average'], tick_label=global_data['Month'])\n",
    "plt.ylabel('Score')\n",
    "plt.xlabel('Month')\n",
    "plt.xticks(rotation=90)\n",
    "plt.title('Global Monthly Sentiment Average Score')\n",
    "\n",
    "plt.savefig('ieee_average.png')"
   ]
  },
  {
   "cell_type": "markdown",
   "metadata": {},
   "source": [
    "## Canada Average Sentiment Score by Month"
   ]
  },
  {
   "cell_type": "code",
   "execution_count": null,
   "metadata": {},
   "outputs": [],
   "source": [
    "names = ['time','text','vader_score','vader_label','textblob_score','textblob_label','location']\n",
    "\n",
    "march = pd.read_csv('CA_label_0305_1101/label/2020-03-label.csv', names=names)\n",
    "april = pd.read_csv('CA_label_0305_1101/label/2020-04-label.csv', names=names)\n",
    "may = pd.read_csv('CA_label_0305_1101/label/2020-05-label.csv', names=names)\n",
    "june = pd.read_csv('CA_label_0305_1101/label/2020-06-label.csv', names=names)\n",
    "july = pd.read_csv('CA_label_0305_1101/label/2020-07-label.csv', names=names)\n",
    "august = pd.read_csv('CA_label_0305_1101/label/2020-08-label.csv', names=names)\n",
    "september = pd.read_csv('CA_label_0305_1101/label/2020-09-label.csv', names=names)\n",
    "october = pd.read_csv('CA_label_0305_1101/label/2020-10-label.csv', names=names)\n",
    "november = pd.read_csv('CA_label_0305_1101/label/2020-11-label.csv', names=names)"
   ]
  },
  {
   "cell_type": "code",
   "execution_count": null,
   "metadata": {},
   "outputs": [],
   "source": [
    "november['textblob_score'].describe()"
   ]
  },
  {
   "cell_type": "code",
   "execution_count": null,
   "metadata": {},
   "outputs": [],
   "source": [
    "november['textblob_score'].sum()"
   ]
  },
  {
   "cell_type": "code",
   "execution_count": 4,
   "metadata": {},
   "outputs": [
    {
     "data": {
      "text/html": [
       "<div>\n",
       "<style scoped>\n",
       "    .dataframe tbody tr th:only-of-type {\n",
       "        vertical-align: middle;\n",
       "    }\n",
       "\n",
       "    .dataframe tbody tr th {\n",
       "        vertical-align: top;\n",
       "    }\n",
       "\n",
       "    .dataframe thead th {\n",
       "        text-align: right;\n",
       "    }\n",
       "</style>\n",
       "<table border=\"1\" class=\"dataframe\">\n",
       "  <thead>\n",
       "    <tr style=\"text-align: right;\">\n",
       "      <th></th>\n",
       "      <th>Month</th>\n",
       "      <th>Count</th>\n",
       "      <th>Sum</th>\n",
       "      <th>Average</th>\n",
       "    </tr>\n",
       "  </thead>\n",
       "  <tbody>\n",
       "    <tr>\n",
       "      <td>0</td>\n",
       "      <td>March</td>\n",
       "      <td>12040</td>\n",
       "      <td>1126.287623</td>\n",
       "      <td>0.093545</td>\n",
       "    </tr>\n",
       "    <tr>\n",
       "      <td>1</td>\n",
       "      <td>April</td>\n",
       "      <td>22214</td>\n",
       "      <td>2238.180008</td>\n",
       "      <td>0.100755</td>\n",
       "    </tr>\n",
       "    <tr>\n",
       "      <td>2</td>\n",
       "      <td>May</td>\n",
       "      <td>20563</td>\n",
       "      <td>2029.664083</td>\n",
       "      <td>0.098705</td>\n",
       "    </tr>\n",
       "    <tr>\n",
       "      <td>3</td>\n",
       "      <td>June</td>\n",
       "      <td>15589</td>\n",
       "      <td>1494.149530</td>\n",
       "      <td>0.095846</td>\n",
       "    </tr>\n",
       "    <tr>\n",
       "      <td>4</td>\n",
       "      <td>July</td>\n",
       "      <td>15835</td>\n",
       "      <td>1321.050186</td>\n",
       "      <td>0.083426</td>\n",
       "    </tr>\n",
       "    <tr>\n",
       "      <td>5</td>\n",
       "      <td>August</td>\n",
       "      <td>13613</td>\n",
       "      <td>1191.074527</td>\n",
       "      <td>0.087495</td>\n",
       "    </tr>\n",
       "    <tr>\n",
       "      <td>6</td>\n",
       "      <td>September</td>\n",
       "      <td>13079</td>\n",
       "      <td>1094.080156</td>\n",
       "      <td>0.083652</td>\n",
       "    </tr>\n",
       "    <tr>\n",
       "      <td>7</td>\n",
       "      <td>October</td>\n",
       "      <td>14761</td>\n",
       "      <td>1153.796702</td>\n",
       "      <td>0.078165</td>\n",
       "    </tr>\n",
       "    <tr>\n",
       "      <td>8</td>\n",
       "      <td>November</td>\n",
       "      <td>70</td>\n",
       "      <td>5.108641</td>\n",
       "      <td>0.072981</td>\n",
       "    </tr>\n",
       "  </tbody>\n",
       "</table>\n",
       "</div>"
      ],
      "text/plain": [
       "       Month  Count          Sum   Average\n",
       "0      March  12040  1126.287623  0.093545\n",
       "1      April  22214  2238.180008  0.100755\n",
       "2        May  20563  2029.664083  0.098705\n",
       "3       June  15589  1494.149530  0.095846\n",
       "4       July  15835  1321.050186  0.083426\n",
       "5     August  13613  1191.074527  0.087495\n",
       "6  September  13079  1094.080156  0.083652\n",
       "7    October  14761  1153.796702  0.078165\n",
       "8   November     70     5.108641  0.072981"
      ]
     },
     "execution_count": 4,
     "metadata": {},
     "output_type": "execute_result"
    }
   ],
   "source": [
    "canada_data = pd.read_csv('ca_average.csv')\n",
    "\n",
    "canada_data"
   ]
  },
  {
   "cell_type": "code",
   "execution_count": 5,
   "metadata": {},
   "outputs": [
    {
     "data": {
      "image/png": "[encoded data removed]",
      "text/plain": [
       "<Figure size 864x432 with 1 Axes>"
      ]
     },
     "metadata": {
      "needs_background": "light"
     },
     "output_type": "display_data"
    }
   ],
   "source": [
    "plt.figure(figsize=(12,6))\n",
    "plt.bar([0,1,2,3,4,5,6,7,8], canada_data['Average'], tick_label=canada_data['Month'])\n",
    "plt.ylabel('Score')\n",
    "plt.xlabel('Month')\n",
    "plt.xticks(rotation=90)\n",
    "plt.title('Canada Monthly Sentiment Average Score')\n",
    "\n",
    "plt.savefig('ca_average.png')"
   ]
  },
  {
   "cell_type": "markdown",
   "metadata": {},
   "source": [
    "## US Sentiment Score by Month"
   ]
  },
  {
   "cell_type": "code",
   "execution_count": null,
   "metadata": {},
   "outputs": [],
   "source": [
    "march = pd.read_csv('USA_relabel_0305_0807/2020-03-label.csv', names=names)\n",
    "april = pd.read_csv('USA_relabel_0305_0807/2020-04-label.csv', names=names)\n",
    "may = pd.read_csv('USA_relabel_0305_0807/2020-05-label.csv', names=names)\n",
    "june = pd.read_csv('USA_relabel_0305_0807/2020-06-label.csv', names=names)\n",
    "july = pd.read_csv('USA_relabel_0305_0807/2020-07-label.csv', names=names)\n",
    "august1 = pd.read_csv('USA_relabel_0305_0807/2020-08-label.csv', names=names)\n",
    "\n",
    "august2 = pd.read_csv('USA_label_0808_1101/USA/2020-08-label.csv', names=names)\n",
    "september = pd.read_csv('USA_label_0808_1101/USA/2020-09-label.csv', names=names)\n",
    "october = pd.read_csv('USA_label_0808_1101/USA/2020-10-label.csv', names=names)\n",
    "november = pd.read_csv('USA_label_0808_1101/USA/2020-11-label.csv', names=names)\n",
    "\n",
    "august = pd.concat([august1, august2])"
   ]
  },
  {
   "cell_type": "code",
   "execution_count": null,
   "metadata": {},
   "outputs": [],
   "source": [
    "november['textblob_score'].describe()"
   ]
  },
  {
   "cell_type": "code",
   "execution_count": null,
   "metadata": {},
   "outputs": [],
   "source": [
    "november['textblob_score'].sum()"
   ]
  },
  {
   "cell_type": "code",
   "execution_count": 7,
   "metadata": {},
   "outputs": [
    {
     "data": {
      "text/html": [
       "<div>\n",
       "<style scoped>\n",
       "    .dataframe tbody tr th:only-of-type {\n",
       "        vertical-align: middle;\n",
       "    }\n",
       "\n",
       "    .dataframe tbody tr th {\n",
       "        vertical-align: top;\n",
       "    }\n",
       "\n",
       "    .dataframe thead th {\n",
       "        text-align: right;\n",
       "    }\n",
       "</style>\n",
       "<table border=\"1\" class=\"dataframe\">\n",
       "  <thead>\n",
       "    <tr style=\"text-align: right;\">\n",
       "      <th></th>\n",
       "      <th>Month</th>\n",
       "      <th>Count</th>\n",
       "      <th>Sum</th>\n",
       "      <th>Average</th>\n",
       "    </tr>\n",
       "  </thead>\n",
       "  <tbody>\n",
       "    <tr>\n",
       "      <td>0</td>\n",
       "      <td>March</td>\n",
       "      <td>20209</td>\n",
       "      <td>290.163002</td>\n",
       "      <td>0.014358</td>\n",
       "    </tr>\n",
       "    <tr>\n",
       "      <td>1</td>\n",
       "      <td>April</td>\n",
       "      <td>24054</td>\n",
       "      <td>1063.812824</td>\n",
       "      <td>0.044226</td>\n",
       "    </tr>\n",
       "    <tr>\n",
       "      <td>2</td>\n",
       "      <td>May</td>\n",
       "      <td>26259</td>\n",
       "      <td>1293.407330</td>\n",
       "      <td>0.049256</td>\n",
       "    </tr>\n",
       "    <tr>\n",
       "      <td>3</td>\n",
       "      <td>June</td>\n",
       "      <td>25677</td>\n",
       "      <td>980.395402</td>\n",
       "      <td>0.038182</td>\n",
       "    </tr>\n",
       "    <tr>\n",
       "      <td>4</td>\n",
       "      <td>July</td>\n",
       "      <td>26756</td>\n",
       "      <td>1115.902800</td>\n",
       "      <td>0.041707</td>\n",
       "    </tr>\n",
       "    <tr>\n",
       "      <td>5</td>\n",
       "      <td>August</td>\n",
       "      <td>28042</td>\n",
       "      <td>1603.725048</td>\n",
       "      <td>0.057190</td>\n",
       "    </tr>\n",
       "    <tr>\n",
       "      <td>6</td>\n",
       "      <td>September</td>\n",
       "      <td>27811</td>\n",
       "      <td>1194.227059</td>\n",
       "      <td>0.042941</td>\n",
       "    </tr>\n",
       "    <tr>\n",
       "      <td>7</td>\n",
       "      <td>October</td>\n",
       "      <td>29228</td>\n",
       "      <td>1324.039057</td>\n",
       "      <td>0.045300</td>\n",
       "    </tr>\n",
       "    <tr>\n",
       "      <td>8</td>\n",
       "      <td>November</td>\n",
       "      <td>737</td>\n",
       "      <td>4.792383</td>\n",
       "      <td>0.006503</td>\n",
       "    </tr>\n",
       "  </tbody>\n",
       "</table>\n",
       "</div>"
      ],
      "text/plain": [
       "       Month  Count          Sum   Average\n",
       "0      March  20209   290.163002  0.014358\n",
       "1      April  24054  1063.812824  0.044226\n",
       "2        May  26259  1293.407330  0.049256\n",
       "3       June  25677   980.395402  0.038182\n",
       "4       July  26756  1115.902800  0.041707\n",
       "5     August  28042  1603.725048  0.057190\n",
       "6  September  27811  1194.227059  0.042941\n",
       "7    October  29228  1324.039057  0.045300\n",
       "8   November    737     4.792383  0.006503"
      ]
     },
     "execution_count": 7,
     "metadata": {},
     "output_type": "execute_result"
    }
   ],
   "source": [
    "us_data = pd.read_csv('us_average.csv')\n",
    "\n",
    "us_data"
   ]
  },
  {
   "cell_type": "code",
   "execution_count": 9,
   "metadata": {},
   "outputs": [
    {
     "data": {
      "image/png": "[encoded data removed]",
      "text/plain": [
       "<Figure size 864x432 with 1 Axes>"
      ]
     },
     "metadata": {
      "needs_background": "light"
     },
     "output_type": "display_data"
    }
   ],
   "source": [
    "plt.figure(figsize=(12,6))\n",
    "plt.bar([0,1,2,3,4,5,6,7,8], us_data['Average'], tick_label=us_data['Month'])\n",
    "plt.ylabel('Score')\n",
    "plt.xlabel('Month')\n",
    "plt.xticks(rotation=90)\n",
    "plt.title('US Monthly Sentiment Average Score')\n",
    "\n",
    "plt.savefig('us_average.png')"
   ]
  },
  {
   "cell_type": "code",
   "execution_count": 43,
   "metadata": {},
   "outputs": [
    {
     "data": {
      "text/html": [
       "<div>\n",
       "<style scoped>\n",
       "    .dataframe tbody tr th:only-of-type {\n",
       "        vertical-align: middle;\n",
       "    }\n",
       "\n",
       "    .dataframe tbody tr th {\n",
       "        vertical-align: top;\n",
       "    }\n",
       "\n",
       "    .dataframe thead th {\n",
       "        text-align: right;\n",
       "    }\n",
       "</style>\n",
       "<table border=\"1\" class=\"dataframe\">\n",
       "  <thead>\n",
       "    <tr style=\"text-align: right;\">\n",
       "      <th></th>\n",
       "      <th>Canada</th>\n",
       "      <th>US</th>\n",
       "      <th>Global</th>\n",
       "    </tr>\n",
       "    <tr>\n",
       "      <th>Month</th>\n",
       "      <th></th>\n",
       "      <th></th>\n",
       "      <th></th>\n",
       "    </tr>\n",
       "  </thead>\n",
       "  <tbody>\n",
       "    <tr>\n",
       "      <td>March</td>\n",
       "      <td>0.093545</td>\n",
       "      <td>0.014358</td>\n",
       "      <td>0.036980</td>\n",
       "    </tr>\n",
       "    <tr>\n",
       "      <td>April</td>\n",
       "      <td>0.100755</td>\n",
       "      <td>0.044226</td>\n",
       "      <td>0.054918</td>\n",
       "    </tr>\n",
       "    <tr>\n",
       "      <td>May</td>\n",
       "      <td>0.098705</td>\n",
       "      <td>0.049256</td>\n",
       "      <td>0.057157</td>\n",
       "    </tr>\n",
       "    <tr>\n",
       "      <td>June</td>\n",
       "      <td>0.095846</td>\n",
       "      <td>0.038182</td>\n",
       "      <td>0.042308</td>\n",
       "    </tr>\n",
       "    <tr>\n",
       "      <td>July</td>\n",
       "      <td>0.083426</td>\n",
       "      <td>0.041707</td>\n",
       "      <td>0.048701</td>\n",
       "    </tr>\n",
       "    <tr>\n",
       "      <td>August</td>\n",
       "      <td>0.087495</td>\n",
       "      <td>0.057190</td>\n",
       "      <td>0.055013</td>\n",
       "    </tr>\n",
       "    <tr>\n",
       "      <td>September</td>\n",
       "      <td>0.083652</td>\n",
       "      <td>0.042941</td>\n",
       "      <td>0.049568</td>\n",
       "    </tr>\n",
       "    <tr>\n",
       "      <td>October</td>\n",
       "      <td>0.078165</td>\n",
       "      <td>0.045300</td>\n",
       "      <td>0.050097</td>\n",
       "    </tr>\n",
       "    <tr>\n",
       "      <td>November</td>\n",
       "      <td>0.072981</td>\n",
       "      <td>0.006503</td>\n",
       "      <td>NaN</td>\n",
       "    </tr>\n",
       "  </tbody>\n",
       "</table>\n",
       "</div>"
      ],
      "text/plain": [
       "             Canada        US    Global\n",
       "Month                                  \n",
       "March      0.093545  0.014358  0.036980\n",
       "April      0.100755  0.044226  0.054918\n",
       "May        0.098705  0.049256  0.057157\n",
       "June       0.095846  0.038182  0.042308\n",
       "July       0.083426  0.041707  0.048701\n",
       "August     0.087495  0.057190  0.055013\n",
       "September  0.083652  0.042941  0.049568\n",
       "October    0.078165  0.045300  0.050097\n",
       "November   0.072981  0.006503       NaN"
      ]
     },
     "execution_count": 43,
     "metadata": {},
     "output_type": "execute_result"
    }
   ],
   "source": [
    "canada_average = canada_data['Average']\n",
    "canada_average.name = \"Canada\"\n",
    "\n",
    "us_average = us_data['Average']\n",
    "us_average.name = \"US\"\n",
    "\n",
    "global_average = global_data['Average']\n",
    "global_average.name = \"Global\"\n",
    "\n",
    "months = us_data['Month']\n",
    "\n",
    "df = pd.concat([canada_average, us_average, global_average], axis=1)\n",
    "df.index = months\n",
    "\n",
    "df"
   ]
  },
  {
   "cell_type": "code",
   "execution_count": 53,
   "metadata": {},
   "outputs": [
    {
     "data": {
      "image/png": "[encoded data removed]",
      "text/plain": [
       "<Figure size 864x432 with 1 Axes>"
      ]
     },
     "metadata": {
      "needs_background": "light"
     },
     "output_type": "display_data"
    }
   ],
   "source": [
    "plt.figure(figsize=(12,6))\n",
    "plt.ylabel('Score')\n",
    "plt.xlabel('Month')\n",
    "plt.xticks(rotation=90)\n",
    "plt.title('Monthly Sentiment Average Score Comparison')\n",
    "ax = plt.gca()\n",
    "\n",
    "bx = df.plot.bar(ax=ax)\n",
    "plt.savefig('average_comparison.png')"
   ]
  },
  {
   "cell_type": "code",
   "execution_count": null,
   "metadata": {},
   "outputs": [],
   "source": []
  }
 ],
 "metadata": {
  "kernelspec": {
   "display_name": "Python 3",
   "language": "python",
   "name": "python3"
  },
  "language_info": {
   "codemirror_mode": {
    "name": "ipython",
    "version": 3
   },
   "file_extension": ".py",
   "mimetype": "text/x-python",
   "name": "python",
   "nbconvert_exporter": "python",
   "pygments_lexer": "ipython3",
   "version": "3.7.4"
  }
 },
 "nbformat": 4,
 "nbformat_minor": 2
}
